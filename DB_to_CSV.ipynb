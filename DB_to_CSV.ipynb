{
  "nbformat": 4,
  "nbformat_minor": 0,
  "metadata": {
    "colab": {
      "provenance": [],
      "toc_visible": true,
      "authorship_tag": "ABX9TyPvyAeZumkM1KfVIfPgc06w",
      "include_colab_link": true
    },
    "kernelspec": {
      "name": "python3",
      "display_name": "Python 3"
    },
    "language_info": {
      "name": "python"
    }
  },
  "cells": [
    {
      "cell_type": "markdown",
      "metadata": {
        "id": "view-in-github",
        "colab_type": "text"
      },
      "source": [
        "<a href=\"https://colab.research.google.com/github/Omar-Ahmed-Kandel/BD-to-Csv/blob/main/DB_to_CSV.ipynb\" target=\"_parent\"><img src=\"https://colab.research.google.com/assets/colab-badge.svg\" alt=\"Open In Colab\"/></a>"
      ]
    },
    {
      "cell_type": "code",
      "execution_count": null,
      "metadata": {
        "colab": {
          "base_uri": "https://localhost:8080/"
        },
        "id": "UWZsZ1PASD_X",
        "outputId": "91a24fec-6c0c-4bd2-aa61-edb11ca39c46"
      },
      "outputs": [
        {
          "output_type": "stream",
          "name": "stdout",
          "text": [
            "✅ Conversion complete! CSV files saved in 'db_to_csv_output' folder\n"
          ]
        }
      ],
      "source": [
        "import sqlite3\n",
        "import csv\n",
        "import os\n",
        "\n",
        "def convert_db_to_csv(db_path):\n",
        "    # Create output directory\n",
        "    output_dir = \"db_to_csv_output\"\n",
        "    os.makedirs(output_dir, exist_ok=True)\n",
        "\n",
        "    # Connect to database\n",
        "    conn = sqlite3.connect(db_path)\n",
        "    cursor = conn.cursor()\n",
        "\n",
        "    # Get all tables\n",
        "    cursor.execute(\"SELECT name FROM sqlite_master WHERE type='table';\")\n",
        "    tables = [row[0] for row in cursor.fetchall()]\n",
        "\n",
        "    # Convert each table to CSV\n",
        "    for table in tables:\n",
        "        cursor.execute(f\"SELECT * FROM {table}\")\n",
        "        rows = cursor.fetchall()\n",
        "        headers = [desc[0] for desc in cursor.description]\n",
        "\n",
        "        # Write CSV file\n",
        "        with open(f\"{output_dir}/{table}.csv\", \"w\", newline=\"\", encoding=\"utf-8\") as f:\n",
        "            writer = csv.writer(f)\n",
        "            writer.writerow(headers)\n",
        "            writer.writerows(rows)\n",
        "\n",
        "    conn.close()\n",
        "    print(f\"✅ Conversion complete! CSV files saved in '{output_dir}' folder\")\n",
        "\n",
        "# Usage: replace 'your_database.db' with your actual .db file path\n",
        "convert_db_to_csv('chinook.db')"
      ]
    }
  ]
}